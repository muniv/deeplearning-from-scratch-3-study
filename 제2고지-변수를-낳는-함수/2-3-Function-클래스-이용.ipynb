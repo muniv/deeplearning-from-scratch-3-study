{
 "cells": [
  {
   "cell_type": "code",
   "execution_count": 2,
   "metadata": {},
   "outputs": [],
   "source": [
    "import numpy as np\n",
    "\n",
    "class Variable:\n",
    "    def __init__(self, data):\n",
    "        self.data = data\n",
    "\n",
    "class Function:\n",
    "    def __call__(self, input):\n",
    "        x = input.data # 데이터를 꺼낸다.\n",
    "        y = x ** 2 # 실제 계산\n",
    "        output = Variable(y) # Variable 형태로 되돌린다.\n",
    "        return output"
   ]
  },
  {
   "attachments": {},
   "cell_type": "markdown",
   "metadata": {},
   "source": [
    "# 2.3 Function 클래스 이용"
   ]
  },
  {
   "cell_type": "code",
   "execution_count": 3,
   "metadata": {},
   "outputs": [
    {
     "name": "stdout",
     "output_type": "stream",
     "text": [
      "<class '__main__.Variable'>\n",
      "100\n"
     ]
    }
   ],
   "source": [
    "x = Variable(np.array(10))\n",
    "f = Function()\n",
    "y = f(x)\n",
    "\n",
    "print(type(y))\n",
    "print(y.data)"
   ]
  },
  {
   "attachments": {},
   "cell_type": "markdown",
   "metadata": {},
   "source": [
    "방금 구현한 Function 클래스는 용도가 '입력값의 제곱'으로 고정된 함수이다.  \n",
    "따라서 Sqare라는 명확한 이름이 더 어울린다.  \n",
    "앞으로 Function 클래스는 기반 클래스로 두고, Function 클래스에는 모든 함수가 공통적으로 제공하는 기능만 담아두도록 하자.\n",
    "- Function 클래스는 기반 클래스로서, 모든 함수에 공통되는 기능을 구현한다.\n",
    "- 구체적인 함수는 Function 클래스를 상속한 클래스에서 구현한다.  \n",
    "\n",
    "이를 위해 Function 클래스를 아래와 같이 수정한다."
   ]
  },
  {
   "cell_type": "code",
   "execution_count": 6,
   "metadata": {},
   "outputs": [],
   "source": [
    "class Function:\n",
    "    def __call__(self, input):\n",
    "        x = input.data\n",
    "        y = self.forward(x) # 구체적인 계산은 forward 메서드에서 한다.\n",
    "        output = Variable(y)\n",
    "        return output\n",
    "    \n",
    "    def forward(self, x):\n",
    "        raise NotImplementedError() # forward 메서드를 직접 호출한 사람에게 나타나는 예외. 이 메서드는 상속하여 구현해야 한다는 것을 알려준다."
   ]
  },
  {
   "cell_type": "code",
   "execution_count": 8,
   "metadata": {},
   "outputs": [],
   "source": [
    "class Square(Function):\n",
    "    def forward(self, x):\n",
    "        return x ** 2"
   ]
  },
  {
   "attachments": {},
   "cell_type": "markdown",
   "metadata": {},
   "source": [
    "Square 클래스는 Function 클래스를 상속하기 때문에, Funciton 클래스의 __call__메서드는 그대로 계승된다.  \n",
    "따라서 forward 메서드에 구체적인 계산 로직을 작성해 넣는 것만으로 구현은 끝난다."
   ]
  },
  {
   "cell_type": "code",
   "execution_count": 9,
   "metadata": {},
   "outputs": [
    {
     "name": "stdout",
     "output_type": "stream",
     "text": [
      "<class '__main__.Variable'>\n",
      "100\n"
     ]
    }
   ],
   "source": [
    "x = Variable(np.array(10))\n",
    "f = Square()\n",
    "y = f(x)\n",
    "print(type(y))\n",
    "print(y.data)"
   ]
  }
 ],
 "metadata": {
  "kernelspec": {
   "display_name": "Python 3",
   "language": "python",
   "name": "python3"
  },
  "language_info": {
   "codemirror_mode": {
    "name": "ipython",
    "version": 3
   },
   "file_extension": ".py",
   "mimetype": "text/x-python",
   "name": "python",
   "nbconvert_exporter": "python",
   "pygments_lexer": "ipython3",
   "version": "3.9.6"
  },
  "orig_nbformat": 4
 },
 "nbformat": 4,
 "nbformat_minor": 2
}
