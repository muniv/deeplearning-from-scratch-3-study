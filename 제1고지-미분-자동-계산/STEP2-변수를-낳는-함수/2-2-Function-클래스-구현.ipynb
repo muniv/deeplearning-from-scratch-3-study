{
 "cells": [
  {
   "cell_type": "code",
   "execution_count": null,
   "metadata": {},
   "outputs": [],
   "source": [
    "class Variable:\n",
    "    def __init__(self, data):\n",
    "        self.data = data"
   ]
  },
  {
   "attachments": {},
   "cell_type": "markdown",
   "metadata": {},
   "source": [
    "# 2.2 Function 클래스 구현\n",
    "앞서 구현한 Variable 인스턴스를 변수로 다룰 수 있는 함수를 Function 클래스로 구현해보자.\n",
    "주의할 점은 다음 두 가지이다.\n",
    "- Function 클래스는 Variable 인스턴스를 입력받아 Variable 인스턴스를 출력한다.\n",
    "- Variable 인스턴스의 실제 데이터는 인스턴스 변수인 data에 있다."
   ]
  },
  {
   "cell_type": "code",
   "execution_count": null,
   "metadata": {},
   "outputs": [],
   "source": [
    "class Function:\n",
    "    def __call__(self, input):\n",
    "        x = input.data # 데이터를 꺼낸다.\n",
    "        y = x ** 2 # 실제 계산\n",
    "        output = Variable(y) # Variable 형태로 되돌린다.\n",
    "        return output"
   ]
  }
 ],
 "metadata": {
  "language_info": {
   "name": "python"
  },
  "orig_nbformat": 4
 },
 "nbformat": 4,
 "nbformat_minor": 2
}
